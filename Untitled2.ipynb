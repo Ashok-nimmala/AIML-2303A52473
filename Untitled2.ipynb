{
  "nbformat": 4,
  "nbformat_minor": 0,
  "metadata": {
    "colab": {
      "provenance": []
    },
    "kernelspec": {
      "name": "python3",
      "display_name": "Python 3"
    },
    "language_info": {
      "name": "python"
    }
  },
  "cells": [
    {
      "cell_type": "markdown",
      "source": [
        "**K-MEDIOD :**"
      ],
      "metadata": {
        "id": "ocEunQZzy7zV"
      }
    },
    {
      "cell_type": "code",
      "source": [
        "!pip install scikit-learn-extra"
      ],
      "metadata": {
        "colab": {
          "base_uri": "https://localhost:8080/"
        },
        "id": "-LoDsTSqywUb",
        "outputId": "fff67b4f-ad8a-416a-a7ff-7a7f113c7e18"
      },
      "execution_count": 18,
      "outputs": [
        {
          "output_type": "stream",
          "name": "stdout",
          "text": [
            "Requirement already satisfied: scikit-learn-extra in /usr/local/lib/python3.10/dist-packages (0.3.0)\n",
            "Requirement already satisfied: numpy>=1.13.3 in /usr/local/lib/python3.10/dist-packages (from scikit-learn-extra) (1.26.4)\n",
            "Requirement already satisfied: scipy>=0.19.1 in /usr/local/lib/python3.10/dist-packages (from scikit-learn-extra) (1.13.1)\n",
            "Requirement already satisfied: scikit-learn>=0.23.0 in /usr/local/lib/python3.10/dist-packages (from scikit-learn-extra) (1.5.2)\n",
            "Requirement already satisfied: joblib>=1.2.0 in /usr/local/lib/python3.10/dist-packages (from scikit-learn>=0.23.0->scikit-learn-extra) (1.4.2)\n",
            "Requirement already satisfied: threadpoolctl>=3.1.0 in /usr/local/lib/python3.10/dist-packages (from scikit-learn>=0.23.0->scikit-learn-extra) (3.5.0)\n"
          ]
        }
      ]
    },
    {
      "cell_type": "code",
      "execution_count": 20,
      "metadata": {
        "colab": {
          "base_uri": "https://localhost:8080/"
        },
        "id": "-YQcII4Byag8",
        "outputId": "ef4a8684-c355-4ad1-ea18-a4afb391ce2a"
      },
      "outputs": [
        {
          "output_type": "stream",
          "name": "stdout",
          "text": [
            "Confusion Matrix:\n",
            " [[100   0   0   0   0   0   0   0   0   0   0]\n",
            " [  0  97   0   0   3   0   0   0   0   0   0]\n",
            " [  0   0 100   0   0   0   0   0   0   0   0]\n",
            " [  0  15   1   0   2   0   0   0  82   0   0]\n",
            " [  0  15   0   0  85   0   0   0   0   0   0]\n",
            " [  0  10   0   0   0  90   0   0   0   0   0]\n",
            " [  0  24   0   0  76   0   0   0   0   0   0]\n",
            " [  0   2   0   0   4   0   0  94   0   0   0]\n",
            " [  0  16   0   0   0   0   0   0  84   0   0]\n",
            " [  0   0   0   0   0   0   0   0   0 100   0]\n",
            " [  0   0   0   0   0   0   0   0   0   0 100]]\n",
            "Accuracy: 0.7727\n",
            "Precision: 0.8671\n",
            "Sensitivity (Recall): 0.7727\n",
            "Specificity: [1.0, 0.918, 0.999, 1.0, 0.915, 1.0, 1.0, 1.0, 0.918, 1.0, 1.0]\n",
            "\n",
            "Classification Report:\n",
            "               precision    recall  f1-score   support\n",
            "\n",
            "      banana       1.00      1.00      1.00       100\n",
            "   blackgram       0.54      0.97      0.70       100\n",
            "    chickpea       0.99      1.00      1.00       100\n",
            " kidneybeans       0.00      0.00      0.00       100\n",
            "      lentil       0.50      0.85      0.63       100\n",
            "       maize       1.00      0.90      0.95       100\n",
            "   mothbeans       0.00      0.00      0.00       100\n",
            "    mungbean       1.00      0.94      0.97       100\n",
            "  pigeonpeas       0.51      0.84      0.63       100\n",
            " pomegranate       1.00      1.00      1.00       100\n",
            "        rice       1.00      1.00      1.00       100\n",
            "\n",
            "    accuracy                           0.77      1100\n",
            "   macro avg       0.69      0.77      0.72      1100\n",
            "weighted avg       0.69      0.77      0.72      1100\n",
            "\n"
          ]
        },
        {
          "output_type": "stream",
          "name": "stderr",
          "text": [
            "/usr/local/lib/python3.10/dist-packages/sklearn/metrics/_classification.py:1531: UndefinedMetricWarning: Precision is ill-defined and being set to 0.0 in labels with no predicted samples. Use `zero_division` parameter to control this behavior.\n",
            "  _warn_prf(average, modifier, f\"{metric.capitalize()} is\", len(result))\n",
            "/usr/local/lib/python3.10/dist-packages/sklearn/metrics/_classification.py:1531: UndefinedMetricWarning: Precision is ill-defined and being set to 0.0 in labels with no predicted samples. Use `zero_division` parameter to control this behavior.\n",
            "  _warn_prf(average, modifier, f\"{metric.capitalize()} is\", len(result))\n",
            "/usr/local/lib/python3.10/dist-packages/sklearn/metrics/_classification.py:1531: UndefinedMetricWarning: Precision is ill-defined and being set to 0.0 in labels with no predicted samples. Use `zero_division` parameter to control this behavior.\n",
            "  _warn_prf(average, modifier, f\"{metric.capitalize()} is\", len(result))\n"
          ]
        }
      ],
      "source": [
        "import pandas as pd\n",
        "from sklearn.preprocessing import LabelEncoder\n",
        "from sklearn_extra.cluster import KMedoids\n",
        "from sklearn.metrics import confusion_matrix, accuracy_score, precision_score, recall_score, classification_report\n",
        "\n",
        "data = pd.read_csv(\"/content/Crop_recommendation 2 - 12 2.csv\")\n",
        "\n",
        "data_cleaned = data.drop(columns=[\"Unnamed: 8\", \"Unnamed: 9\"], errors='ignore')\n",
        "\n",
        "X = data_cleaned.drop(\"label\", axis=1)\n",
        "y = data_cleaned[\"label\"]\n",
        "\n",
        "label_encoder = LabelEncoder()\n",
        "y_encoded = label_encoder.fit_transform(y)\n",
        "\n",
        "n_clusters = len(data[\"label\"].unique())\n",
        "kmedoids = KMedoids(n_clusters=n_clusters, random_state=42, metric='manhattan')\n",
        "y_pred = kmedoids.fit_predict(X)\n",
        "\n",
        "import numpy as np\n",
        "from scipy.stats import mode\n",
        "\n",
        "def align_clusters(y_true, y_pred):\n",
        "    \"\"\"Align clusters to true labels based on the most common association.\"\"\"\n",
        "    labels = np.zeros_like(y_pred)\n",
        "    for i in range(n_clusters):\n",
        "        mask = (y_pred == i)\n",
        "        labels[mask] = mode(y_true[mask])[0]\n",
        "    return labels\n",
        "\n",
        "y_pred_aligned = align_clusters(y_encoded, y_pred)\n",
        "\n",
        "conf_matrix = confusion_matrix(y_encoded, y_pred_aligned)\n",
        "accuracy = accuracy_score(y_encoded, y_pred_aligned)\n",
        "precision = precision_score(y_encoded, y_pred_aligned, average='weighted', zero_division=1)\n",
        "sensitivity = recall_score(y_encoded, y_pred_aligned, average='weighted')  # Same as recall\n",
        "\n",
        "specificity = []\n",
        "for i in range(conf_matrix.shape[0]):\n",
        "    tn = conf_matrix.sum() - (conf_matrix[i, :].sum() + conf_matrix[:, i].sum() - conf_matrix[i, i])\n",
        "    fp = conf_matrix[:, i].sum() - conf_matrix[i, i]\n",
        "    specificity.append(tn / (tn + fp))\n",
        "\n",
        "print(\"Confusion Matrix:\\n\", conf_matrix)\n",
        "print(f\"Accuracy: {accuracy:.4f}\")\n",
        "print(f\"Precision: {precision:.4f}\")\n",
        "print(f\"Sensitivity (Recall): {sensitivity:.4f}\")\n",
        "print(f\"Specificity: {specificity}\")\n",
        "print(\"\\nClassification Report:\\n\", classification_report(y_encoded, y_pred_aligned, target_names=label_encoder.classes_))"
      ]
    },
    {
      "cell_type": "markdown",
      "source": [],
      "metadata": {
        "id": "Sc6rZ740y63b"
      }
    },
    {
      "cell_type": "markdown",
      "source": [
        "**K-MEANS :**"
      ],
      "metadata": {
        "id": "HepPDDoly_pa"
      }
    },
    {
      "cell_type": "code",
      "source": [
        "import pandas as pd\n",
        "import numpy as np\n",
        "from sklearn.preprocessing import LabelEncoder, StandardScaler\n",
        "from sklearn.model_selection import train_test_split\n",
        "from sklearn.cluster import KMeans\n",
        "from sklearn.metrics import accuracy_score, precision_score, recall_score, classification_report, confusion_matrix\n",
        "from scipy.stats import mode\n",
        "\n",
        "data = pd.read_csv(\"/content/Crop_recommendation 2 - 12 2.csv\")\n",
        "\n",
        "data_cleaned = data.drop(columns=[\"Unnamed: 8\", \"Unnamed: 9\"], errors='ignore')\n",
        "\n",
        "X = data_cleaned.drop(\"label\", axis=1)\n",
        "y = data_cleaned[\"label\"]\n",
        "\n",
        "label_encoder = LabelEncoder()\n",
        "y_encoded = label_encoder.fit_transform(y)\n",
        "\n",
        "scaler = StandardScaler()\n",
        "X_scaled = scaler.fit_transform(X)\n",
        "\n",
        "n_clusters = len(np.unique(y_encoded))\n",
        "kmeans = KMeans(n_clusters=n_clusters, random_state=42, n_init=10)\n",
        "y_pred = kmeans.fit_predict(X_scaled)\n",
        "\n",
        "def align_clusters(y_true, y_pred):\n",
        "    \"\"\"Align clusters with true labels using the most common label in each cluster.\"\"\"\n",
        "    aligned_labels = np.zeros_like(y_pred)\n",
        "    for i in range(n_clusters):\n",
        "        mask = (y_pred == i)\n",
        "        aligned_labels[mask] = mode(y_true[mask])[0]\n",
        "    return aligned_labels\n",
        "\n",
        "y_pred_aligned = align_clusters(y_encoded, y_pred)\n",
        "\n",
        "accuracy = accuracy_score(y_encoded, y_pred_aligned)\n",
        "precision = precision_score(y_encoded, y_pred_aligned, average='weighted', zero_division=1)\n",
        "sensitivity = recall_score(y_encoded, y_pred_aligned, average='weighted')  # Recall is sensitivity\n",
        "\n",
        "unique_labels = np.unique(y_encoded)\n",
        "specificity_list = []\n",
        "\n",
        "for label in unique_labels:\n",
        "    tp = np.sum((y_encoded == label) & (y_pred_aligned == label))\n",
        "    fp = np.sum((y_encoded != label) & (y_pred_aligned == label))\n",
        "    tn = np.sum((y_encoded != label) & (y_pred_aligned != label))\n",
        "\n",
        "    specificity = tn / (tn + fp) if (tn + fp) > 0 else 0\n",
        "    specificity_list.append(specificity)\n",
        "\n",
        "conf_matrix = confusion_matrix(y_encoded, y_pred_aligned)\n",
        "\n",
        "print(f\"Accuracy: {accuracy:.4f}\")\n",
        "print(f\"Precision: {precision:.4f}\")\n",
        "print(f\"Sensitivity (Recall): {sensitivity:.4f}\")\n",
        "print(f\"Specificity (per class): {specificity_list}\")\n",
        "print(\"\\nConfusion Matrix:\\n\", conf_matrix)\n",
        "\n",
        "print(\"\\nClassification Report:\\n\", classification_report(y_encoded, y_pred_aligned, target_names=label_encoder.classes_))\n"
      ],
      "metadata": {
        "colab": {
          "base_uri": "https://localhost:8080/"
        },
        "id": "6u8dZe9S6Llf",
        "outputId": "da5ed9c2-850d-4646-9dc2-6f8f93a686c0"
      },
      "execution_count": 24,
      "outputs": [
        {
          "output_type": "stream",
          "name": "stdout",
          "text": [
            "Accuracy: 0.8527\n",
            "Precision: 0.9127\n",
            "Sensitivity (Recall): 0.8527\n",
            "Specificity (per class): [1.0, 0.892, 1.0, 0.963, 1.0, 1.0, 0.992, 0.991, 1.0, 1.0, 1.0]\n",
            "\n",
            "Confusion Matrix:\n",
            " [[100   0   0   0   0   0   0   0   0   0   0]\n",
            " [  0  99   0   0   0   0   0   1   0   0   0]\n",
            " [  0   0 100   0   0   0   0   0   0   0   0]\n",
            " [  0   0   0 100   0   0   0   0   0   0   0]\n",
            " [  0  93   0   4   0   0   0   3   0   0   0]\n",
            " [  0   0   0   0   0 100   0   0   0   0   0]\n",
            " [  0  10   0   0   0   0  85   5   0   0   0]\n",
            " [  0   0   0   0   0   0   0 100   0   0   0]\n",
            " [  0   5   0  33   0   0   8   0  54   0   0]\n",
            " [  0   0   0   0   0   0   0   0   0 100   0]\n",
            " [  0   0   0   0   0   0   0   0   0   0 100]]\n",
            "\n",
            "Classification Report:\n",
            "               precision    recall  f1-score   support\n",
            "\n",
            "      banana       1.00      1.00      1.00       100\n",
            "   blackgram       0.48      0.99      0.64       100\n",
            "    chickpea       1.00      1.00      1.00       100\n",
            " kidneybeans       0.73      1.00      0.84       100\n",
            "      lentil       0.00      0.00      0.00       100\n",
            "       maize       1.00      1.00      1.00       100\n",
            "   mothbeans       0.91      0.85      0.88       100\n",
            "    mungbean       0.92      1.00      0.96       100\n",
            "  pigeonpeas       1.00      0.54      0.70       100\n",
            " pomegranate       1.00      1.00      1.00       100\n",
            "        rice       1.00      1.00      1.00       100\n",
            "\n",
            "    accuracy                           0.85      1100\n",
            "   macro avg       0.82      0.85      0.82      1100\n",
            "weighted avg       0.82      0.85      0.82      1100\n",
            "\n"
          ]
        },
        {
          "output_type": "stream",
          "name": "stderr",
          "text": [
            "/usr/local/lib/python3.10/dist-packages/sklearn/metrics/_classification.py:1531: UndefinedMetricWarning: Precision is ill-defined and being set to 0.0 in labels with no predicted samples. Use `zero_division` parameter to control this behavior.\n",
            "  _warn_prf(average, modifier, f\"{metric.capitalize()} is\", len(result))\n",
            "/usr/local/lib/python3.10/dist-packages/sklearn/metrics/_classification.py:1531: UndefinedMetricWarning: Precision is ill-defined and being set to 0.0 in labels with no predicted samples. Use `zero_division` parameter to control this behavior.\n",
            "  _warn_prf(average, modifier, f\"{metric.capitalize()} is\", len(result))\n",
            "/usr/local/lib/python3.10/dist-packages/sklearn/metrics/_classification.py:1531: UndefinedMetricWarning: Precision is ill-defined and being set to 0.0 in labels with no predicted samples. Use `zero_division` parameter to control this behavior.\n",
            "  _warn_prf(average, modifier, f\"{metric.capitalize()} is\", len(result))\n"
          ]
        }
      ]
    },
    {
      "cell_type": "markdown",
      "source": [
        "**SVM :**"
      ],
      "metadata": {
        "id": "dADkJUiGzOmM"
      }
    },
    {
      "cell_type": "code",
      "source": [
        "import pandas as pd\n",
        "import numpy as np\n",
        "from sklearn.preprocessing import LabelEncoder, StandardScaler\n",
        "from sklearn.model_selection import train_test_split\n",
        "from sklearn.cluster import KMeans\n",
        "from sklearn.metrics import accuracy_score, precision_score, recall_score, classification_report, confusion_matrix\n",
        "from scipy.stats import mode\n",
        "\n",
        "data = pd.read_csv(\"/content/Crop_recommendation 2 - 12 2.csv\")\n",
        "\n",
        "data_cleaned = data.drop(columns=[\"Unnamed: 8\", \"Unnamed: 9\"], errors='ignore')\n",
        "\n",
        "X = data_cleaned.drop(\"label\", axis=1)\n",
        "y = data_cleaned[\"label\"]\n",
        "\n",
        "label_encoder = LabelEncoder()\n",
        "y_encoded = label_encoder.fit_transform(y)\n",
        "\n",
        "scaler = StandardScaler()\n",
        "X_scaled = scaler.fit_transform(X)\n",
        "\n",
        "kmeans = KMeans(n_clusters=n_clusters, random_state=42, n_init=10)\n",
        "y_pred = kmeans.fit_predict(X_scaled)\n",
        "\n",
        "def align_clusters(y_true, y_pred):\n",
        "    \"\"\"Align clusters with true labels using the most common label in each cluster.\"\"\"\n",
        "    aligned_labels = np.zeros_like(y_pred)\n",
        "    for i in range(n_clusters):\n",
        "        mask = (y_pred == i)\n",
        "        aligned_labels[mask] = mode(y_true[mask])[0]\n",
        "    return aligned_labels\n",
        "\n",
        "y_pred_aligned = align_clusters(y_encoded, y_pred)\n",
        "\n",
        "accuracy = accuracy_score(y_encoded, y_pred_aligned)\n",
        "precision = precision_score(y_encoded, y_pred_aligned, average='weighted', zero_division=1)\n",
        "sensitivity = recall_score(y_encoded, y_pred_aligned, average='weighted')  # Recall is sensitivity\n",
        "\n",
        "unique_labels = np.unique(y_encoded)\n",
        "specificity_list = []\n",
        "\n",
        "for label in unique_labels:\n",
        "    tp = np.sum((y_encoded == label) & (y_pred_aligned == label))\n",
        "    fp = np.sum((y_encoded != label) & (y_pred_aligned == label))\n",
        "    tn = np.sum((y_encoded != label) & (y_pred_aligned != label))\n",
        "\n",
        "    specificity = tn / (tn + fp) if (tn + fp) > 0 else 0\n",
        "    specificity_list.append(specificity)\n",
        "\n",
        "conf_matrix = confusion_matrix(y_encoded, y_pred_aligned)\n",
        "\n",
        "print(f\"Accuracy: {accuracy:.4f}\")\n",
        "print(f\"Precision: {precision:.4f}\")\n",
        "print(f\"Sensitivity (Recall): {sensitivity:.4f}\")\n",
        "print(f\"Specificity (per class): {specificity_list}\")\n",
        "print(\"\\nConfusion Matrix:\\n\", conf_matrix)\n",
        "\n",
        "print(\"\\nClassification Report:\\n\", classification_report(y_encoded, y_pred_aligned, target_names=label_encoder.classes_))\n"
      ],
      "metadata": {
        "colab": {
          "base_uri": "https://localhost:8080/"
        },
        "id": "_nqYNo1o6krc",
        "outputId": "e74b91f8-7c7d-4a41-ccd7-e2067a4d14c1"
      },
      "execution_count": 25,
      "outputs": [
        {
          "output_type": "stream",
          "name": "stdout",
          "text": [
            "Accuracy: 0.8527\n",
            "Precision: 0.9127\n",
            "Sensitivity (Recall): 0.8527\n",
            "Specificity (per class): [1.0, 0.892, 1.0, 0.963, 1.0, 1.0, 0.992, 0.991, 1.0, 1.0, 1.0]\n",
            "\n",
            "Confusion Matrix:\n",
            " [[100   0   0   0   0   0   0   0   0   0   0]\n",
            " [  0  99   0   0   0   0   0   1   0   0   0]\n",
            " [  0   0 100   0   0   0   0   0   0   0   0]\n",
            " [  0   0   0 100   0   0   0   0   0   0   0]\n",
            " [  0  93   0   4   0   0   0   3   0   0   0]\n",
            " [  0   0   0   0   0 100   0   0   0   0   0]\n",
            " [  0  10   0   0   0   0  85   5   0   0   0]\n",
            " [  0   0   0   0   0   0   0 100   0   0   0]\n",
            " [  0   5   0  33   0   0   8   0  54   0   0]\n",
            " [  0   0   0   0   0   0   0   0   0 100   0]\n",
            " [  0   0   0   0   0   0   0   0   0   0 100]]\n",
            "\n",
            "Classification Report:\n",
            "               precision    recall  f1-score   support\n",
            "\n",
            "      banana       1.00      1.00      1.00       100\n",
            "   blackgram       0.48      0.99      0.64       100\n",
            "    chickpea       1.00      1.00      1.00       100\n",
            " kidneybeans       0.73      1.00      0.84       100\n",
            "      lentil       0.00      0.00      0.00       100\n",
            "       maize       1.00      1.00      1.00       100\n",
            "   mothbeans       0.91      0.85      0.88       100\n",
            "    mungbean       0.92      1.00      0.96       100\n",
            "  pigeonpeas       1.00      0.54      0.70       100\n",
            " pomegranate       1.00      1.00      1.00       100\n",
            "        rice       1.00      1.00      1.00       100\n",
            "\n",
            "    accuracy                           0.85      1100\n",
            "   macro avg       0.82      0.85      0.82      1100\n",
            "weighted avg       0.82      0.85      0.82      1100\n",
            "\n"
          ]
        },
        {
          "output_type": "stream",
          "name": "stderr",
          "text": [
            "/usr/local/lib/python3.10/dist-packages/sklearn/metrics/_classification.py:1531: UndefinedMetricWarning: Precision is ill-defined and being set to 0.0 in labels with no predicted samples. Use `zero_division` parameter to control this behavior.\n",
            "  _warn_prf(average, modifier, f\"{metric.capitalize()} is\", len(result))\n",
            "/usr/local/lib/python3.10/dist-packages/sklearn/metrics/_classification.py:1531: UndefinedMetricWarning: Precision is ill-defined and being set to 0.0 in labels with no predicted samples. Use `zero_division` parameter to control this behavior.\n",
            "  _warn_prf(average, modifier, f\"{metric.capitalize()} is\", len(result))\n",
            "/usr/local/lib/python3.10/dist-packages/sklearn/metrics/_classification.py:1531: UndefinedMetricWarning: Precision is ill-defined and being set to 0.0 in labels with no predicted samples. Use `zero_division` parameter to control this behavior.\n",
            "  _warn_prf(average, modifier, f\"{metric.capitalize()} is\", len(result))\n"
          ]
        }
      ]
    },
    {
      "cell_type": "markdown",
      "source": [
        "**DECISION-TREE:**"
      ],
      "metadata": {
        "id": "N1Mf7MHpzpuH"
      }
    },
    {
      "cell_type": "code",
      "source": [
        "import pandas as pd\n",
        "import numpy as np\n",
        "from sklearn.preprocessing import LabelEncoder, StandardScaler\n",
        "from sklearn.model_selection import train_test_split\n",
        "from sklearn.tree import DecisionTreeClassifier\n",
        "from sklearn.metrics import accuracy_score, precision_score, recall_score, classification_report, confusion_matrix\n",
        "\n",
        "data = pd.read_csv(\"/content/Crop_recommendation 2 - 12 2.csv\")\n",
        "\n",
        "X = data.drop(\"label\", axis=1)\n",
        "y = data[\"label\"]\n",
        "\n",
        "label_encoder = LabelEncoder()\n",
        "y_encoded = label_encoder.fit_transform(y)\n",
        "\n",
        "scaler = StandardScaler()\n",
        "X_scaled = scaler.fit_transform(X)\n",
        "\n",
        "X_train, X_test, y_train, y_test = train_test_split(X_scaled, y_encoded, test_size=0.3, random_state=42)\n",
        "\n",
        "dt_model = DecisionTreeClassifier(random_state=42)\n",
        "dt_model.fit(X_train, y_train)\n",
        "\n",
        "y_pred = dt_model.predict(X_test)\n",
        "\n",
        "accuracy = accuracy_score(y_test, y_pred)\n",
        "precision = precision_score(y_test, y_pred, average='weighted', zero_division=1)\n",
        "sensitivity = recall_score(y_test, y_pred, average='weighted')\n",
        "\n",
        "unique_labels = np.unique(y_encoded)\n",
        "specificity_list = []\n",
        "\n",
        "for label in unique_labels:\n",
        "    tp = np.sum((y_test == label) & (y_pred == label))\n",
        "    fp = np.sum((y_test != label) & (y_pred == label))\n",
        "    tn = np.sum((y_test != label) & (y_pred != label))\n",
        "\n",
        "    specificity = tn / (tn + fp) if (tn + fp) > 0 else 0\n",
        "    specificity_list.append(specificity)\n",
        "\n",
        "conf_matrix = confusion_matrix(y_test, y_pred)\n",
        "\n",
        "print(f\"Accuracy: {accuracy:.4f}\")\n",
        "print(f\"Precision: {precision:.4f}\")\n",
        "print(f\"Sensitivity (Recall): {sensitivity:.4f}\")\n",
        "print(f\"Specificity (per class): {specificity_list}\")\n",
        "print(\"\\nConfusion Matrix:\\n\", conf_matrix)\n",
        "\n",
        "print(\"\\nClassification Report:\\n\", classification_report(y_test, y_pred, target_names=label_encoder.classes_))\n"
      ],
      "metadata": {
        "colab": {
          "base_uri": "https://localhost:8080/"
        },
        "id": "YHYVNrdR7y-U",
        "outputId": "2949c099-edf9-4127-8efd-2cd90f2c2099"
      },
      "execution_count": 27,
      "outputs": [
        {
          "output_type": "stream",
          "name": "stdout",
          "text": [
            "Accuracy: 0.9939\n",
            "Precision: 0.9941\n",
            "Sensitivity (Recall): 0.9939\n",
            "Specificity (per class): [1.0, 1.0, 1.0, 1.0, 0.9966777408637874, 1.0, 1.0, 1.0, 1.0, 1.0, 0.9966329966329966]\n",
            "\n",
            "Confusion Matrix:\n",
            " [[23  0  0  0  0  0  0  0  0  0  0]\n",
            " [ 0 34  0  0  0  0  0  0  0  0  0]\n",
            " [ 0  0 31  0  0  0  0  0  0  0  0]\n",
            " [ 0  0  0 35  0  0  0  0  0  0  0]\n",
            " [ 0  0  0  0 29  0  0  0  0  0  0]\n",
            " [ 0  0  0  0  0 24  0  0  0  0  1]\n",
            " [ 0  0  0  0  1  0 36  0  0  0  0]\n",
            " [ 0  0  0  0  0  0  0 28  0  0  0]\n",
            " [ 0  0  0  0  0  0  0  0 28  0  0]\n",
            " [ 0  0  0  0  0  0  0  0  0 27  0]\n",
            " [ 0  0  0  0  0  0  0  0  0  0 33]]\n",
            "\n",
            "Classification Report:\n",
            "               precision    recall  f1-score   support\n",
            "\n",
            "      banana       1.00      1.00      1.00        23\n",
            "   blackgram       1.00      1.00      1.00        34\n",
            "    chickpea       1.00      1.00      1.00        31\n",
            " kidneybeans       1.00      1.00      1.00        35\n",
            "      lentil       0.97      1.00      0.98        29\n",
            "       maize       1.00      0.96      0.98        25\n",
            "   mothbeans       1.00      0.97      0.99        37\n",
            "    mungbean       1.00      1.00      1.00        28\n",
            "  pigeonpeas       1.00      1.00      1.00        28\n",
            " pomegranate       1.00      1.00      1.00        27\n",
            "        rice       0.97      1.00      0.99        33\n",
            "\n",
            "    accuracy                           0.99       330\n",
            "   macro avg       0.99      0.99      0.99       330\n",
            "weighted avg       0.99      0.99      0.99       330\n",
            "\n"
          ]
        },
        {
          "output_type": "stream",
          "name": "stderr",
          "text": [
            "/usr/local/lib/python3.10/dist-packages/sklearn/utils/extmath.py:1137: RuntimeWarning: invalid value encountered in divide\n",
            "  updated_mean = (last_sum + new_sum) / updated_sample_count\n",
            "/usr/local/lib/python3.10/dist-packages/sklearn/utils/extmath.py:1142: RuntimeWarning: invalid value encountered in divide\n",
            "  T = new_sum / new_sample_count\n",
            "/usr/local/lib/python3.10/dist-packages/sklearn/utils/extmath.py:1162: RuntimeWarning: invalid value encountered in divide\n",
            "  new_unnormalized_variance -= correction**2 / new_sample_count\n"
          ]
        }
      ]
    }
  ]
}