{
  "nbformat": 4,
  "nbformat_minor": 0,
  "metadata": {
    "colab": {
      "provenance": [],
      "authorship_tag": "ABX9TyPdezKUMHFZhCpCM8PWL4XD",
      "include_colab_link": true
    },
    "kernelspec": {
      "name": "python3",
      "display_name": "Python 3"
    },
    "language_info": {
      "name": "python"
    }
  },
  "cells": [
    {
      "cell_type": "markdown",
      "metadata": {
        "id": "view-in-github",
        "colab_type": "text"
      },
      "source": [
        "<a href=\"https://colab.research.google.com/github/Ashok-nimmala/AIML-2303A52473/blob/main/2303A52473_36_29.ipynb\" target=\"_parent\"><img src=\"https://colab.research.google.com/assets/colab-badge.svg\" alt=\"Open In Colab\"/></a>"
      ]
    },
    {
      "cell_type": "markdown",
      "source": [
        "Prediction of real estate valuation based on geo-referencing.\n",
        "\n",
        "  1.Identify the top 5 house age values with most estate value.\n",
        "2. Does MRT station, Stores contribute to real estate value\n",
        "3. Identify the max and min house price of unit area.\n",
        "4. Predict the date when most transactions happed in real estate.\n",
        "5. Identify the closest distance perimeter for MRT Stations, stores for high real estate value."
      ],
      "metadata": {
        "id": "sMA6KDzdAAfi"
      }
    },
    {
      "source": [
        "from google.colab import drive\n",
        "drive.mount('/content/drive')"
      ],
      "cell_type": "code",
      "metadata": {
        "colab": {
          "base_uri": "https://localhost:8080/"
        },
        "id": "AncoT6j0B12b",
        "outputId": "e35ae3a3-2091-4b7c-9ae0-e76c6d4f3775"
      },
      "execution_count": 13,
      "outputs": [
        {
          "output_type": "stream",
          "name": "stdout",
          "text": [
            "Drive already mounted at /content/drive; to attempt to forcibly remount, call drive.mount(\"/content/drive\", force_remount=True).\n"
          ]
        }
      ]
    },
    {
      "cell_type": "code",
      "source": [
        "import pandas as pd\n",
        "import zipfile"
      ],
      "metadata": {
        "id": "_yxNbpVSCyr3"
      },
      "execution_count": 15,
      "outputs": []
    },
    {
      "cell_type": "code",
      "source": [
        "file_path = '/content/drive/MyDrive/real+estate+valuation+data+set.zip'\n",
        "with zipfile.ZipFile(file_path, 'r') as zip_ref:\n",
        "    excel_file = zip_ref.namelist()[0]\n",
        "    zip_ref.extract(excel_file)\n",
        "real_estate_data = pd.read_excel(excel_file)\n"
      ],
      "metadata": {
        "id": "eOrgIQAWC6tI"
      },
      "execution_count": 11,
      "outputs": []
    },
    {
      "cell_type": "markdown",
      "source": [
        "1."
      ],
      "metadata": {
        "id": "Xrv9sbMCDm9_"
      }
    },
    {
      "cell_type": "code",
      "source": [
        "top_house_ages = real_estate_data.groupby('X2 house age')['Y house price of unit area'] \\\n",
        "    .sum() \\\n",
        "    .sort_values(ascending=False) \\\n",
        "    .head(5)"
      ],
      "metadata": {
        "id": "XbmWl_HjDeMz"
      },
      "execution_count": 12,
      "outputs": []
    },
    {
      "cell_type": "code",
      "source": [
        "print(\"Top 5 house ages with the most estate value:\")\n",
        "print(top_house_ages)"
      ],
      "metadata": {
        "colab": {
          "base_uri": "https://localhost:8080/"
        },
        "id": "LW5jYqpIFW12",
        "outputId": "c515e0c7-a289-40c1-edee-fe133ba915c3"
      },
      "execution_count": 20,
      "outputs": [
        {
          "output_type": "stream",
          "name": "stdout",
          "text": [
            "Top 5 house ages with the most estate value:\n",
            "X2 house age\n",
            "0.0     920.3\n",
            "13.3    256.7\n",
            "16.4    255.6\n",
            "1.1     248.9\n",
            "13.6    227.4\n",
            "Name: Y house price of unit area, dtype: float64\n"
          ]
        }
      ]
    },
    {
      "cell_type": "markdown",
      "source": [
        " 2."
      ],
      "metadata": {
        "id": "OejgkCSyD8it"
      }
    },
    {
      "cell_type": "code",
      "source": [],
      "metadata": {
        "id": "DurKAD2eJSVu"
      },
      "execution_count": null,
      "outputs": []
    },
    {
      "cell_type": "code",
      "source": [
        "correlation_mrt = real_estate_data['X3 distance to the nearest MRT station'].corr(real_estate_data['Y house price of unit area'])\n",
        "correlation_stores = real_estate_data['X4 number of convenience stores'].corr(real_estate_data['Y house price of unit area'])"
      ],
      "metadata": {
        "id": "W7S3ic0TD5q2"
      },
      "execution_count": 8,
      "outputs": []
    },
    {
      "cell_type": "code",
      "source": [
        "print(\"\\nCorrelation between MRT station distance and house price:\", correlation_mrt)\n",
        "print(\"Correlation between number of stores and house price:\", correlation_stores)\n"
      ],
      "metadata": {
        "colab": {
          "base_uri": "https://localhost:8080/"
        },
        "id": "mKMTQRViFaDj",
        "outputId": "ba50df09-6936-4e66-d4d5-460fac81242d"
      },
      "execution_count": 21,
      "outputs": [
        {
          "output_type": "stream",
          "name": "stdout",
          "text": [
            "\n",
            "Correlation between MRT station distance and house price: -0.6736128553689185\n",
            "Correlation between number of stores and house price: 0.5710049111111483\n"
          ]
        }
      ]
    },
    {
      "cell_type": "markdown",
      "source": [
        "3."
      ],
      "metadata": {
        "id": "dvLP3dYQEQHS"
      }
    },
    {
      "cell_type": "code",
      "source": [
        "max_price = real_estate_data['Y house price of unit area'].max()\n",
        "min_price = real_estate_data['Y house price of unit area'].min()"
      ],
      "metadata": {
        "id": "OZtByTB7EUhl"
      },
      "execution_count": 16,
      "outputs": []
    },
    {
      "cell_type": "code",
      "source": [
        "print(\"\\nMaximum house price of unit area:\", max_price)\n",
        "print(\"Minimum house price of unit area:\", min_price)"
      ],
      "metadata": {
        "colab": {
          "base_uri": "https://localhost:8080/"
        },
        "id": "SPKcCsBUFc52",
        "outputId": "1876cd4a-5292-4df9-f708-34b52ca1b20c"
      },
      "execution_count": 22,
      "outputs": [
        {
          "output_type": "stream",
          "name": "stdout",
          "text": [
            "\n",
            "Maximum house price of unit area: 117.5\n",
            "Minimum house price of unit area: 7.6\n"
          ]
        }
      ]
    },
    {
      "cell_type": "markdown",
      "source": [
        "4."
      ],
      "metadata": {
        "id": "DUk8ZrA9EemG"
      }
    },
    {
      "cell_type": "code",
      "source": [
        "most_transactions_date = real_estate_data['X1 transaction date'].mode().iloc[0]"
      ],
      "metadata": {
        "id": "UI2p3xdSEcmg"
      },
      "execution_count": 18,
      "outputs": []
    },
    {
      "cell_type": "code",
      "source": [
        "print(\"\\nDate with the most transactions:\", most_transactions_date)"
      ],
      "metadata": {
        "colab": {
          "base_uri": "https://localhost:8080/"
        },
        "id": "e2ACs8fDFfvm",
        "outputId": "d82b6fa8-410a-487b-bf7c-3fda17d9b4c9"
      },
      "execution_count": 23,
      "outputs": [
        {
          "output_type": "stream",
          "name": "stdout",
          "text": [
            "\n",
            "Date with the most transactions: 2013.4166667\n"
          ]
        }
      ]
    },
    {
      "cell_type": "markdown",
      "source": [
        "5."
      ],
      "metadata": {
        "id": "aUbCQuVHFp65"
      }
    },
    {
      "cell_type": "code",
      "source": [
        "high_value_threshold = real_estate_data['Y house price of unit area'].quantile(0.95)  # Top 5% of property prices\n",
        "high_value_properties = real_estate_data[real_estate_data['Y house price of unit area'] >= high_value_threshold]\n",
        "closest_mrt_distance = high_value_properties['X3 distance to the nearest MRT station'].min()\n",
        "closest_stores_count = high_value_properties['X4 number of convenience stores'].max()"
      ],
      "metadata": {
        "id": "juI0eMw-Enas"
      },
      "execution_count": 17,
      "outputs": []
    },
    {
      "cell_type": "code",
      "source": [
        "print(\"\\nClosest MRT station distance for high-value properties:\", closest_mrt_distance)\n",
        "print(\"Maximum number of stores near high-value properties:\", closest_stores_count)"
      ],
      "metadata": {
        "colab": {
          "base_uri": "https://localhost:8080/"
        },
        "id": "aO6Z0ZNnFlP9",
        "outputId": "4aad2a66-2091-4967-828d-ca62404f1d96"
      },
      "execution_count": 24,
      "outputs": [
        {
          "output_type": "stream",
          "name": "stdout",
          "text": [
            "\n",
            "Closest MRT station distance for high-value properties: 56.47425\n",
            "Maximum number of stores near high-value properties: 10\n"
          ]
        }
      ]
    }
  ]
}